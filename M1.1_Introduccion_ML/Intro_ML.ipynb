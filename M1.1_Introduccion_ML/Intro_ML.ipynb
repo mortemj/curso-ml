{
 "cells": [
  {
   "cell_type": "markdown",
   "metadata": {},
   "source": [
    "# Intro a Machine Learning: Aprendiendo del Día a Día\n",
    "\n",
    "---"
   ]
  },
  {
   "cell_type": "markdown",
   "metadata": {},
   "source": [
    "## 🎯 Objetivo de este Notebook\n",
    "\n",
    "En este notebook, exploraremos el **Machine Learning (ML)** de una manera sencilla e intuitiva. Veremos cómo la inteligencia artificial está presente en nuestra vida diaria, desmitificaremos el concepto de \"aprender\" para una máquina y realizaremos nuestro primer ejercicio práctico para clasificar algo de forma simple.\n",
    "\n",
    "Al finalizar este notebook, serás capaz de:\n",
    "* Entender qué es el Machine Learning a través de ejemplos cotidianos.\n",
    "* Identificar los tipos principales de ML (Supervisado y No Supervisado).\n",
    "* Realizar un pequeño ejercicio de \"clasificación\" con Python."
   ]
  },
  {
   "cell_type": "markdown",
   "metadata": {},
   "source": [
    "---"
   ]
  },
  {
   "cell_type": "markdown",
   "metadata": {},
   "source": [
    "## 💡 ¿Qué es el Machine Learning? Una Analogía Cotidiana\n",
    "\n",
    "Imagina que tienes un niño pequeño al que quieres enseñar a distinguir entre un **perro** y un **gato**.\n",
    "\n",
    "¿Cómo lo haces?\n",
    "\n",
    "Le muestras **muchas fotos** de perros y gatos. Cada vez que le muestras una foto de un perro, le dices: \"¡Esto es un perro!\". Y cuando le muestras una foto de un gato, le dices: \"¡Esto es un gato!\".\n",
    "\n",
    "Después de ver suficientes ejemplos (y quizás corregirle un par de veces), el niño empezará a identificar por sí mismo si un animal nuevo es un perro o un gato, basándose en lo que ha \"aprendido\" de las fotos.\n",
    "\n",
    "---"
   ]
  },
  {
   "cell_type": "markdown",
   "metadata": {},
   "source": [
    "### 🤖 El Machine Learning Funciona Igual\n",
    "\n",
    "El Machine Learning es el proceso de enseñar a una computadora a \"aprender\" de **datos (ejemplos)**, sin ser programada explícitamente para cada tarea. En lugar de darle una lista exacta de reglas (ej. \"Si tiene bigotes largos y maúlla, es un gato\"), le damos muchos ejemplos (fotos de perros y gatos) y la máquina descubre los patrones por sí misma.\n",
    "\n",
    "Una vez que la máquina ha \"aprendido\" (o se ha **entrenado**), puede hacer **predicciones** o **clasificaciones** sobre datos nuevos que nunca antes ha visto."
   ]
  },
  {
   "cell_type": "markdown",
   "metadata": {},
   "source": [
    "---"
   ]
  },
  {
   "cell_type": "markdown",
   "metadata": {},
   "source": [
    "## 🌍 Machine Learning en tu Día a Día: Ejemplos Concretos\n",
    "\n",
    "El ML no es ciencia ficción; está por todas partes:\n",
    "\n",
    "1.  **Recomendaciones de Netflix/YouTube/Spotify:** ¿Te has preguntado cómo saben qué película o canción te gustará? Analizan tus gustos anteriores y los de usuarios similares para predecir tus preferencias.\n",
    "    * *Aquí, la máquina aprende de tu historial de reproducciones.* (Aprendizaje Supervisado - ¡te lo explicaremos pronto!)\n",
    "\n",
    "2.  **Filtro de Spam en tu Correo Electrónico:** Tu bandeja de entrada detecta correos no deseados sin que tú les digas explícitamente qué es spam. Aprende de millones de correos que ya han sido marcados como spam o no spam.\n",
    "    * *La máquina aprende a **clasificar** un email como spam o no spam.* (Clasificación Binaria - el tipo de problema en el que nos centraremos).\n",
    "\n",
    "3.  **Reconocimiento Facial en tu Teléfono:** Cuando tu teléfono desbloquea la pantalla con tu cara, ha sido entrenado para reconocer tus rasgos únicos.\n",
    "    * *La máquina aprende a **identificar** tu cara.* (Reconocimiento de Patrones).\n",
    "\n",
    "4.  **Predicción del Tiempo:** Los modelos de ML analizan datos históricos de temperatura, presión, humedad, etc., para predecir si lloverá mañana.\n",
    "    * *La máquina aprende a **predecir** un valor numérico.* (Regresión - otro tipo de problema de ML).\n",
    "\n",
    "5.  **Asistentes de Voz (Siri, Alexa, Google Assistant):** Comprenden lo que dices y responden a tus preguntas. Aprenden de miles de horas de grabaciones de voz y texto.\n",
    "    * *La máquina aprende a **procesar el lenguaje natural**.*"
   ]
  },
  {
   "cell_type": "markdown",
   "metadata": {},
   "source": [
    "---"
   ]
  },
  {
   "cell_type": "markdown",
   "metadata": {},
   "source": [
    "## 分類 (Clasificación): Nuestro Foco Principal\n",
    "\n",
    "En Machine Learning, una de las tareas más comunes es la **clasificación**. Consiste en asignar una \"etiqueta\" o \"categoría\" a un elemento.\n",
    "\n",
    "Cuando la máquina solo tiene que elegir entre **dos opciones** (como spam/no spam, perro/gato, sobrevivió/no sobrevivió), hablamos de **Clasificación Binaria**.\n",
    "\n",
    "¡Este tipo de problema será el eje central de nuestro curso!"
   ]
  },
  {
   "cell_type": "markdown",
   "metadata": {},
   "source": [
    "---"
   ]
  },
  {
   "cell_type": "markdown",
   "metadata": {},
   "source": [
    "## 📊 Tipos de Machine Learning (Breve Introducción)\n",
    "\n",
    "Aunque hay muchas ramas, las principales son:\n",
    "\n",
    "### 1. Aprendizaje Supervisado (Supervised Learning)\n",
    "\n",
    "* **¿Cómo funciona?** La máquina aprende de datos que ya tienen la \"respuesta correcta\" o \"etiqueta\" asociada (como las fotos de perros/gatos con su etiqueta). Se le da un **input** y su **output deseado**.\n",
    "* **Ejemplos:** Predicción de precios de casas (Regresión), detección de spam (Clasificación), diagnóstico de enfermedades.\n",
    "* **Nuestro curso se centrará principalmente aquí, especialmente en la Clasificación.**\n",
    "\n",
    "### 2. Aprendizaje No Supervisado (Unsupervised Learning)\n",
    "\n",
    "* **¿Cómo funciona?** La máquina busca patrones y estructuras en datos que **no tienen etiquetas predefinidas**. Intenta encontrar relaciones ocultas, agrupar datos similares, etc.\n",
    "* **Ejemplos:** Agrupación de clientes por hábitos de compra (Clustering), detección de anomalías (ej. fraude).\n",
    "\n",
    "### 3. Aprendizaje por Refuerzo (Reinforcement Learning)\n",
    "\n",
    "* **¿Cómo funciona?** Un agente aprende a tomar decisiones interactuando con un entorno, recibiendo \"recompensas\" o \"penalizaciones\" por sus acciones. Es como entrenar a una mascota con premios.\n",
    "* **Ejemplos:** Jugar videojuegos (AlphaGo), coches autónomos, robótica."
   ]
  },
  {
   "cell_type": "markdown",
   "metadata": {},
   "source": [
    "---"
   ]
  },
  {
   "cell_type": "markdown",
   "metadata": {},
   "source": [
    "## 👩‍🔬 Tu Primer Ejercicio Práctico de \"Clasificación\" en Python\n",
    "\n",
    "No te preocupes si el código te parece nuevo. ¡Aquí la idea es que veas que puedes hacer que una máquina \"decida\" algo con unas pocas líneas de código!\n",
    "\n",
    "Imagina que tenemos un sensor que mide la **temperatura corporal** de una persona y queremos clasificar si **podría tener fiebre (1) o no (0)**.\n",
    "\n",
    "Vamos a crear una función simple en Python que simule un clasificador binario."
   ]
  },
  {
   "cell_type": "code",
   "execution_count": null,
   "metadata": {},
   "outputs": [],
   "source": [
    "# Definimos nuestra \"función clasificadora\" (nuestro mini-modelo de ML)\n",
    "def clasificar_fiebre(temperatura):\n",
    "    \"\"\"\n",
    "    Clasifica si una persona podría tener fiebre (1) o no (0)\n",
    "    basándose en la temperatura corporal.\n",
    "    \"\"\"\n",
    "    if temperatura >= 37.5: # Si la temperatura es 37.5 o más, consideramos fiebre\n",
    "        return 1  # 1 significa 'Sí, podría tener fiebre'\n",
    "    else:\n",
    "        return 0  # 0 significa 'No, probablemente no tiene fiebre'\n",
    "\n",
    "# --- Prueba nuestro clasificador con diferentes temperaturas --- \n",
    "temperatura_persona1 = 36.8\n",
    "prediccion_persona1 = clasificar_fiebre(temperatura_persona1)\n",
    "print(f\"Temperatura: {temperatura_persona1}°C -> Predicción de fiebre: {prediccion_persona1}\")\n",
    "\n",
    "temperatura_persona2 = 38.1\n",
    "prediccion_persona2 = clasificar_fiebre(temperatura_persona2)\n",
    "print(f\"Temperatura: {temperatura_persona2}°C -> Predicción de fiebre: {prediccion_persona2}\")\n",
    "\n",
    "temperatura_persona3 = 37.5\n",
    "prediccion_persona3 = clasificar_fiebre(temperatura_persona3)\n",
    "print(f\"Temperatura: {temperatura_persona3}°C -> Predicción de fiebre: {prediccion_persona3}\")\n",
    "\n",
    "print(\"\\n--- Un pequeño desafío --- \")\n",
    "mi_temperatura = 37.2 # ¡Cambia este valor y ejecuta la celda!\n",
    "mi_prediccion = clasificar_fiebre(mi_temperatura)\n",
    "print(f\"Mi temperatura: {mi_temperatura}°C -> Mi predicción de fiebre: {mi_prediccion}\")\n"
   ]
  },
  {
   "cell_type": "markdown",
   "metadata": {},
   "source": [
    "### ✨ Reflexiona sobre el ejercicio:\n",
    "\n",
    "* Hemos \"entrenado\" a nuestra función (o \"modelo\") dándole una **regla** (si `>= 37.5`, entonces fiebre).\n",
    "* Luego, la usamos para hacer **predicciones** sobre nuevas temperaturas.\n",
    "* En Machine Learning real, los modelos aprenden estas reglas (mucho más complejas) a partir de **grandes cantidades de datos**, en lugar de que nosotros las programemos explícitamente."
   ]
  },
  {
   "cell_type": "markdown",
   "metadata": {},
   "source": [
    "---"
   ]
  },
  {
   "cell_type": "markdown",
   "metadata": {},
   "source": [
    "## ⏭️ ¿Qué sigue?\n",
    "\n",
    "Ahora que tienes una idea intuitiva de qué es el Machine Learning y cómo una máquina puede \"clasificar\" algo, te invitamos a:\n",
    "\n",
    "1.  Explorar el dataset del Titanic en el notebook **`Titanic_Dataset.ipynb`** para trabajar con datos reales.\n",
    "2.  Consultar la **`Guía_Conceptos_ML.pdf`** para profundizar en la teoría de los tipos de Machine Learning.\n",
    "\n",
    "¡Felicitaciones! Has completado tu primera inmersión en el Machine Learning."
   ]
  }
 ],
 "metadata": {
  "kernelspec": {
   "display_name": "Python 3",
   "language": "python",
   "name": "python3"
  },
  "language_info": {
   "codemirror_mode": {
    "name": "ipython",
    "version": 3
   },
   "file_extension": ".py",
   "mimetype": "text/x-python",
   "name": "python",
   "nbconvert_exporter": "python",
   "pygments_lexer": "ipython3",
   "version": "3.10.12"
  }
 },
 "nbformat": 4,
 "nbformat_minor": 4
}
