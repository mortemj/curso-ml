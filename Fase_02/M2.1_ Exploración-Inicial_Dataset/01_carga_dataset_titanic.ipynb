{
  "cells": [
    {
      "cell_type": "code",
      "execution_count": 3,
      "id": "af288299-489d-4c13-b37e-8f6de58f8a22",
      "metadata": {
        "id": "af288299-489d-4c13-b37e-8f6de58f8a22",
        "outputId": "e05f57cf-714a-4b22-88d4-605230a22ccd",
        "colab": {
          "base_uri": "https://localhost:8080/"
        }
      },
      "outputs": [
        {
          "output_type": "stream",
          "name": "stdout",
          "text": [
            "Error al cargar el dataset desde GitHub: HTTP Error 404: Not Found\n",
            "Por favor, verifica que la URL es correcta y que el archivo está en tu repositorio público de GitHub.\n",
            "\n",
            "No se pudo cargar el dataset. Por favor, revisa el error de carga.\n"
          ]
        }
      ],
      "source": [
        "# --- 01_carga_dataset_titanic.ipynb ---\n",
        "\n",
        "# Objetivo: Cargar el dataset del Titanic y verificar que se ha leído correctamente.\n",
        "\n",
        "# 1. Importar las librerías necesarias\n",
        "import pandas as pd\n",
        "\n",
        "# 2. Cargar el dataset del Titanic directamente desde GitHub\n",
        "# ¡Aquí está la URL Raw de tu archivo titanic_train.csv en GitHub!\n",
        "github_csv_url = 'https://github.com/mortemj/curso-ml/tree/main/Fase_02/M2.1_%20Exploraci%C3%B3n-Inicial_Dataset/titanic_train.csv'\n",
        "\n",
        "try:\n",
        "    df_titanic = pd.read_csv(github_csv_url)\n",
        "    print(\"Dataset del Titanic cargado exitosamente desde GitHub. ¡Victoria definitiva!\")\n",
        "\n",
        "    # Opcional: Ver una pequeña parte del DataFrame para confirmar que se cargó bien.\n",
        "    print(\"\\n--- Primeras filas del DataFrame cargado (opcional) ---\")\n",
        "    print(df_titanic.head()) # Ahora lo dejamos descomentado para que lo veas siempre\n",
        "\n",
        "except Exception as e: # Cambiamos FileNotFoundError a Exception para capturar cualquier error de carga desde URL\n",
        "    print(f\"Error al cargar el dataset desde GitHub: {e}\")\n",
        "    print(\"Por favor, verifica que la URL es correcta y que el archivo está en tu repositorio público de GitHub.\")\n",
        "    df_titanic = None # Asignar None para que no haya errores si el archivo no se carga\n",
        "\n",
        "# 3. Mensaje de confirmación\n",
        "if df_titanic is not None:\n",
        "    print(\"\\n¡Listo para la siguiente inspección!\")\n",
        "else:\n",
        "    print(\"\\nNo se pudo cargar el dataset. Por favor, revisa el error de carga.\")"
      ]
    },
    {
      "cell_type": "code",
      "source": [
        "from google.colab import drive\n",
        "drive.mount('/content/drive')"
      ],
      "metadata": {
        "id": "FuInM4xmx8cd"
      },
      "id": "FuInM4xmx8cd",
      "execution_count": null,
      "outputs": []
    },
    {
      "cell_type": "code",
      "execution_count": null,
      "id": "9266f281-1a81-4505-b410-9714d46ff758",
      "metadata": {
        "id": "9266f281-1a81-4505-b410-9714d46ff758"
      },
      "outputs": [],
      "source": []
    },
    {
      "cell_type": "code",
      "execution_count": null,
      "id": "25f60535-5810-47ab-a579-dc11b20fadc7",
      "metadata": {
        "id": "25f60535-5810-47ab-a579-dc11b20fadc7"
      },
      "outputs": [],
      "source": []
    }
  ],
  "metadata": {
    "kernelspec": {
      "display_name": "Python 3 (ipykernel)",
      "language": "python",
      "name": "python3"
    },
    "language_info": {
      "codemirror_mode": {
        "name": "ipython",
        "version": 3
      },
      "file_extension": ".py",
      "mimetype": "text/x-python",
      "name": "python",
      "nbconvert_exporter": "python",
      "pygments_lexer": "ipython3",
      "version": "3.12.7"
    },
    "colab": {
      "provenance": []
    }
  },
  "nbformat": 4,
  "nbformat_minor": 5
}