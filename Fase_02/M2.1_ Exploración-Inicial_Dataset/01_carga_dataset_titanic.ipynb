{
 "cells": [
  {
   "cell_type": "code",
   "execution_count": 1,
   "id": "af288299-489d-4c13-b37e-8f6de58f8a22",
   "metadata": {},
   "outputs": [
    {
     "name": "stdout",
     "output_type": "stream",
     "text": [
      "Dataset del Titanic cargado exitosamente. ¡Primera victoria!\n",
      "\n",
      "¡Listo para la siguiente inspección!\n"
     ]
    }
   ],
   "source": [
    "# --- 01_carga_dataset_titanic.ipynb ---\n",
    "\n",
    "# Objetivo: Cargar el dataset del Titanic y verificar que se ha leído correctamente.\n",
    "\n",
    "# 1. Importar las librerías necesarias\n",
    "# 'pandas' es la librería principal para trabajar con DataFrames (tablas de datos) en Python.\n",
    "import pandas as pd\n",
    "\n",
    "# 2. Cargar el dataset del Titanic\n",
    "# Asegúrate de que el archivo 'titanic_train.csv' está en la misma carpeta donde\n",
    "# tienes este Jupyter Notebook, o proporciona la ruta completa al archivo.\n",
    "# Si estás en Google Colab, es posible que necesites subir el archivo o cargarlo desde una URL.\n",
    "try:\n",
    "    df_titanic = pd.read_csv('titanic_train.csv')\n",
    "    print(\"Dataset del Titanic cargado exitosamente. \")\n",
    "\n",
    "    # Opcional: Ver una pequeña parte del DataFrame para confirmar que se cargó bien.\n",
    "    # print(\"\\n--- Primeras filas del DataFrame cargado (opcional) ---\")\n",
    "    # print(df_titanic.head())\n",
    "\n",
    "except FileNotFoundError:\n",
    "    print(\"Error: El archivo 'titanic_train.csv' no se encontró.\")\n",
    "    print(\"Por favor, asegúrate de que el archivo está en la misma ubicación que este notebook.\")\n",
    "    print(\"Si lo necesitas, puedes descargarlo de Kaggle (busca 'Titanic - Machine Learning from Disaster')\")\n",
    "    print(\"o, si usas Google Colab, puedes subirlo con el icono de la carpeta a la izquierda.\")\n",
    "    df_titanic = None # Asignar None para que no haya errores si el archivo no se carga\n",
    "\n",
    "# 3. Mensaje de confirmación\n",
    "if df_titanic is not None:\n",
    "    print(\"\\n¡Listo para la siguiente inspección!\")\n",
    "else:\n",
    "    print(\"\\nNo se pudo cargar el dataset. Por favor, resuelve el error de archivo.\")"
   ]
  },
  {
   "cell_type": "code",
   "execution_count": null,
   "id": "9266f281-1a81-4505-b410-9714d46ff758",
   "metadata": {},
   "outputs": [],
   "source": []
  },
  {
   "cell_type": "code",
   "execution_count": null,
   "id": "25f60535-5810-47ab-a579-dc11b20fadc7",
   "metadata": {},
   "outputs": [],
   "source": []
  }
 ],
 "metadata": {
  "kernelspec": {
   "display_name": "Python 3 (ipykernel)",
   "language": "python",
   "name": "python3"
  },
  "language_info": {
   "codemirror_mode": {
    "name": "ipython",
    "version": 3
   },
   "file_extension": ".py",
   "mimetype": "text/x-python",
   "name": "python",
   "nbconvert_exporter": "python",
   "pygments_lexer": "ipython3",
   "version": "3.12.7"
  }
 },
 "nbformat": 4,
 "nbformat_minor": 5
}
