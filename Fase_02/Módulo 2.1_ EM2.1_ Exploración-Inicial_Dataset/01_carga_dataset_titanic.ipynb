# --- 01_carga_dataset_titanic.ipynb ---

# Objetivo: Cargar el dataset del Titanic y verificar que se ha leído correctamente.

# 1. Importar las librerías necesarias
# 'pandas' es la librería principal para trabajar con DataFrames (tablas de datos) en Python.
import pandas as pd

# 2. Cargar el dataset del Titanic
# Asegúrate de que el archivo 'titanic_train.csv' está en la misma carpeta donde
# tienes este Jupyter Notebook, o proporciona la ruta completa al archivo.
# Si estás en Google Colab, es posible que necesites subir el archivo o cargarlo desde una URL.
try:
    df_titanic = pd.read_csv('titanic_train.csv')
    print("Dataset del Titanic cargado exitosamente. ¡Primera victoria!")

    # Opcional: Ver una pequeña parte del DataFrame para confirmar que se cargó bien.
    # print("\n--- Primeras filas del DataFrame cargado (opcional) ---")
    # print(df_titanic.head())

except FileNotFoundError:
    print("Error: El archivo 'titanic_train.csv' no se encontró.")
    print("Por favor, asegúrate de que el archivo está en la misma ubicación que este notebook.")
    print("Si lo necesitas, puedes descargarlo de Kaggle (busca 'Titanic - Machine Learning from Disaster')")
    print("o, si usas Google Colab, puedes subirlo con el icono de la carpeta a la izquierda.")
    df_titanic = None # Asignar None para que no haya errores si el archivo no se carga

# 3. Mensaje de confirmación
if df_titanic is not None:
    print("\n¡Listo para la siguiente inspección!")
else:
    print("\nNo se pudo cargar el dataset. Por favor, resuelve el error de archivo.")
