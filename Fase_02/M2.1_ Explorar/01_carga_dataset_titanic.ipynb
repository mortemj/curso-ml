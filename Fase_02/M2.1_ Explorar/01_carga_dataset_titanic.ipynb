# --- 01_carga_dataset_titanic.ipynb ---

# Objetivo: Cargar el dataset del Titanic y verificar que se ha leído correctamente.

# 1. Importar las librerías necesarias
import pandas as pd

# 2. Cargar el dataset del Titanic directamente desde GitHub
# ¡Aquí está la URL Raw de tu archivo titanic_train.csv en GitHub!
github_csv_url = 'https://raw.githubusercontent.com/mortemj/curso-ml/main/Fase_02/M2.1_Exploraci%C3%B3n-Inicial_Dataset/titanic_train.csv'

try:
    df_titanic = pd.read_csv(github_csv_url)
    print("Dataset del Titanic cargado exitosamente desde GitHub. ¡Victoria definitiva!")

    # Opcional: Ver una pequeña parte del DataFrame para confirmar que se cargó bien.
    print("\n--- Primeras filas del DataFrame cargado (opcional) ---")
    print(df_titanic.head())

except Exception as e: # Cambiamos FileNotFoundError a Exception para capturar cualquier error de carga desde URL
    print(f"Error al cargar el dataset desde GitHub: {e}")
    print("Por favor, verifica que la URL es correcta y que el archivo está en tu repositorio público de GitHub.")
    df_titanic = None # Asignar None para que no haya errores si el archivo no se carga

# 3. Mensaje de confirmación
if df_titanic is not None:
    print("\n¡Listo para la siguiente inspección!")
else:
    print("\nNo se pudo cargar el dataset. Por favor, revisa el error de carga.")
