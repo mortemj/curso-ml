{
  "nbformat": 4,
  "nbformat_minor": 0,
  "metadata": {
    "colab": {
      "provenance": []
    },
    "kernelspec": {
      "name": "python3",
      "display_name": "Python 3"
    },
    "language_info": {
      "name": "python"
    }
  },
  "cells": [
    {
      "cell_type": "code",
      "execution_count": 1,
      "metadata": {
        "colab": {
          "base_uri": "https://localhost:8080/"
        },
        "id": "uxJXy3SZ-B6M",
        "outputId": "d4e852c7-022c-4cd1-b14f-5dcec29914e2"
      },
      "outputs": [
        {
          "output_type": "stream",
          "name": "stdout",
          "text": [
            "Dataset del Titanic cargado exitosamente desde GitHub. ¡Victoria definitiva!\n",
            "\n",
            "--- Primeras filas del DataFrame cargado (opcional) ---\n",
            "   PassengerId  Survived  Pclass  \\\n",
            "0            1         0       3   \n",
            "1            2         1       1   \n",
            "2            3         1       3   \n",
            "3            4         1       1   \n",
            "4            5         0       3   \n",
            "\n",
            "                                                Name     Sex   Age  SibSp  \\\n",
            "0                            Braund, Mr. Owen Harris    male  22.0      1   \n",
            "1  Cumings, Mrs. John Bradley (Florence Briggs Th...  female  38.0      1   \n",
            "2                             Heikkinen, Miss. Laina  female  26.0      0   \n",
            "3       Futrelle, Mrs. Jacques Heath (Lily May Peel)  female  35.0      1   \n",
            "4                           Allen, Mr. William Henry    male  35.0      0   \n",
            "\n",
            "   Parch            Ticket     Fare Cabin Embarked  \n",
            "0      0         A/5 21171   7.2500   NaN        S  \n",
            "1      0          PC 17599  71.2833   C85        C  \n",
            "2      0  STON/O2. 3101282   7.9250   NaN        S  \n",
            "3      0            113803  53.1000  C123        S  \n",
            "4      0            373450   8.0500   NaN        S  \n",
            "\n",
            "¡Listo para la siguiente inspección!\n"
          ]
        }
      ],
      "source": [
        "# --- 01_carga_dataset_titanic.ipynb ---\n",
        "\n",
        "# Objetivo: Cargar el dataset del Titanic y verificar que se ha leído correctamente.\n",
        "\n",
        "# 1. Importar las librerías necesarias\n",
        "# 'pandas' es la librería principal para trabajar con DataFrames (tablas de datos) en Python.\n",
        "import pandas as pd\n",
        "\n",
        "# 2. Cargar el dataset del Titanic directamente desde GitHub\n",
        "# ¡URL ACTUALIZADA con el cambio en el nombre de la carpeta!\n",
        "github_csv_url = 'https://raw.githubusercontent.com/mortemj/curso-ml/main/Fase_02/M2.1_Explorar/titanic_train.csv'\n",
        "\n",
        "try:\n",
        "    df_titanic = pd.read_csv(github_csv_url)\n",
        "    print(\"Dataset del Titanic cargado exitosamente desde GitHub. ¡Victoria definitiva!\")\n",
        "\n",
        "    # Opcional: Ver una pequeña parte del DataFrame para confirmar que se cargó bien.\n",
        "    print(\"\\n--- Primeras filas del DataFrame cargado (opcional) ---\")\n",
        "    print(df_titanic.head())\n",
        "\n",
        "except Exception as e:\n",
        "    print(f\"Error al cargar el dataset desde GitHub: {e}\")\n",
        "    print(\"Por favor, verifica que la URL es correcta y que el archivo 'titanic_train.csv' está dentro de esa carpeta en tu repositorio público de GitHub.\")\n",
        "    df_titanic = None\n",
        "\n",
        "# 3. Mensaje de confirmación\n",
        "if df_titanic is not None:\n",
        "    print(\"\\n¡Listo para la siguiente inspección!\")\n",
        "else:\n",
        "    print(\"\\nNo se pudo cargar el dataset. Por favor, revisa el error de carga.\")\n"
      ]
    },
    {
      "cell_type": "code",
      "source": [],
      "metadata": {
        "id": "5Lmvay6q-qNM"
      },
      "execution_count": null,
      "outputs": []
    }
  ]
}