{
 "cells": [
  {
   "cell_type": "markdown",
   "metadata": {},
   "source": [
    "# 🐍 Python Básico para Empezar en la Ciencia de Datos (Recurso Externo)\n",
    "\n",
    "---"
   ]
  },
  {
   "cell_type": "markdown",
   "metadata": {},
   "source": [
    "## 🎯 Objetivo de este Notebook\n",
    "\n",
    "Este notebook sirve como tu punto de partida para aprender los fundamentos del lenguaje de programación Python. En lugar de replicar extensos tutoriales aquí, te dirigimos a un recurso externo de alta calidad.\n",
    "\n",
    "Al finalizar la consulta de este recurso, tendrás las bases de Python necesarias para seguir el resto del curso.\n",
    "\n",
    "---"
   ]
  },
  {
   "cell_type": "markdown",
   "metadata": {},
   "source": [
    "## Recurso Recomendado: Curso de Python de Brais Moure\n",
    "\n",
    "Para aprender Python desde cero, te recomendamos encarecidamente el **\"Curso de Python (2024)\" de Brais Moure en YouTube**. Es un recurso excelente, claro y muy bien estructurado.\n",
    "\n",
    "**Enlace al curso:**\n",
    "\n",
    "👉 [**Curso de Python (2024) de Brais Moure en YouTube**](https://www.youtube.com/playlist?list=PLTd5pm_P4pT2-N42a8b3Xy8H-vM-S-w60)\n",
    "\n",
    "Sigue este curso para familiarizarte con:\n",
    "\n",
    "* Variables y tipos de datos (números, texto, booleanos)\n",
    indler* Operaciones aritméticas y lógicas\n",
    "* Estructuras de datos básicas como **listas** y **diccionarios**\n",
    "* Estructuras de control (condicionales, bucles)\n",
    "* Funciones\n",
    "\n",
    "Estos son los pilares de Python que necesitarás para abordar los conceptos de Ciencia de Datos y Machine Learning en las siguientes fases del curso.\n",
    "\n",
    "---"
   ]
  },
  {
   "cell_type": "markdown",
   "metadata": {},
   "source": [
    "## ⏭️ ¿Qué sigue?\n",
    "\n",
    "Una vez que te sientas cómodo con los fundamentos de Python aprendidos a través del curso de Brais Moure:\n",
    "\n",
    "1.  Podrás practicar los conceptos básicos de programación y lógica en el notebook **`Ejercicios_Iniciales.ipynb`** dentro de este mismo módulo (`Fase1/M1.2_Entorno_Python_Basico/`).\n",
    "2.  Continuarás con el **Módulo 1.3: Conceptos Estadísticos Básicos** en **`Fase1/M1.3_Estadisticas_Basicas/Estadisticas_Basicas.ipynb`**, donde aplicarás Python para análisis de datos.\n",
    "3.  También puedes revisar **`Recursos_Python_Jupyter.md`** y **`Guia_Anaconda_Jupyter.md`** en este módulo para configurar tu entorno.\n",
    "\n",
    "¡Tu base en Python es crucial para el éxito en Machine Learning!"
   ]
  }
 ],
 "metadata": {
  "kernelspec": {
   "display_name": "Python 3",
   "language": "python",
   "name": "python3"
  },
  "language_info": {
   "codemirror_mode": {
    "name": "ipython",
    "version": 3
   },
   "file_extension": ".py",
   "mimetype": "text/x-python",
   "name": "python",
   "nbconvert_exporter": "python",
   "pygments_lexer": "ipython3",
   "version": "3.10.12"
  }
 },
 "nbformat": 4,
 "nbformat_minor": 4
}
