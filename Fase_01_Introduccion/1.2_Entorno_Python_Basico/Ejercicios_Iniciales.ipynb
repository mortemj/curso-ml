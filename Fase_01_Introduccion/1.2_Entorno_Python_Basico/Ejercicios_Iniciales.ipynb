{
 "cells": [
  {
   "cell_type": "markdown",
   "metadata": {},
   "source": [
    "# Anexo: Ejercicios Prácticos Iniciales de Clasificación\n",
    "\n",
    "---"
   ]
  },
  {
   "cell_type": "markdown",
   "metadata": {},
   "source": [
    "## 🎯 Objetivo de este Notebook\n",
    "\n",
    "Este notebook complementa la Fase 1, ofreciendo ejercicios prácticos adicionales para consolidar tu comprensión de la **clasificación binaria** y cómo una máquina puede tomar decisiones basadas en reglas simples. El objetivo es que experimentes con el código y veas el impacto de las condiciones.\n",
    "\n",
    "Al finalizar este notebook, serás capaz de:\n",
    "* Entender cómo una función simple de Python puede simular una clasificación.\n",
    "* Modificar y probar las reglas de clasificación.\n",
    "* Reforzar la idea de que los modelos de ML aprenden estas reglas (mucho más complejas) de los datos."
   ]
  },
  {
   "cell_type": "markdown",
   "metadata": {},
   "source": [
    "---"
   ]
  },
  {
   "cell_type": "markdown",
   "metadata": {},
   "source": [
    "## Ejercicio 1: Clasificación de Fiebre (Revisitado del Intro_ML.ipynb)\n",
    "\n",
    "Aquí tienes el ejercicio de la temperatura que viste en el notebook `Intro_ML.ipynb`. Te animamos a ejecutarlo de nuevo y, ¡aún mejor!, a cambiar la `temperatura` y la regla de clasificación (`>= 37.5`) para ver cómo cambia la predicción.\n",
    "\n",
    "Imagina que un sensor mide la **temperatura corporal** de una persona y queremos clasificar si **podría tener fiebre (1) o no (0)**."
   ]
  },
  {
   "cell_type": "code",
   "execution_count": null,
   "metadata": {},
   "outputs": [],
   "source": [
    "# Definimos nuestra \"función clasificadora\" (nuestro mini-modelo de ML)\n",
    "def clasificar_fiebre(temperatura):\n",
    "    \"\"\"\n",
    "    Clasifica si una persona podría tener fiebre (1) o no (0)\n",
    "    basándose en la temperatura corporal.\n",
    "    \"\"\"\n",
    "    if temperatura >= 37.5: # Si la temperatura es 37.5 o más, consideramos fiebre\n",
    "        return 1  # 1 significa 'Sí, podría tener fiebre'\n",
    "    else:\n",
    "        return 0  # 0 significa 'No, probablemente no tiene fiebre'\n",
    "\n",
    "# --- Prueba nuestro clasificador con diferentes temperaturas --- \n",
    "temperatura_persona1 = 36.8\n",
    "prediccion_persona1 = clasificar_fiebre(temperatura_persona1)\n",
    "print(f\"Temperatura: {temperatura_persona1}°C -> Predicción de fiebre: {prediccion_persona1}\")\n",
    "\n",
    "temperatura_persona2 = 38.1\n",
    "prediccion_persona2 = clasificar_fiebre(temperatura_persona2)\n",
    "print(f\"Temperatura: {temperatura_persona2}°C -> Predicción de fiebre: {prediccion_persona2}\")\n",
    "\n",
    "temperatura_persona3 = 37.5\n",
    "prediccion_persona3 = clasificar_fiebre(temperatura_persona3)\n",
    "print(f\"Temperatura: {temperatura_persona3}°C -> Predicción de fiebre: {prediccion_persona3}\")\n",
    "\n",
    "print(\"\\n--- Tu Turno: Cambia el valor y ejecuta la celda --- \")\n",
    "mi_temperatura = 37.2 # ¡CAMBIA ESTE VALOR!\n",
    "mi_prediccion = clasificar_fiebre(mi_temperatura)\n",
    "print(f\"Mi temperatura: {mi_temperatura}°C -> Mi predicción de fiebre: {mi_prediccion}\")\n",
    "\n",
    "print(\"\\n--- Desafío Extra: Cambia la regla de clasificación ---\")\n",
    "# ¿Qué pasa si consideramos fiebre a partir de 37.0°C?\n",
    "# Modifica la función 'clasificar_fiebre' arriba, cambia el 37.5 a 37.0 y vuelve a ejecutar TODAS las celdas."
   ]
  },
  {
   "cell_type": "markdown",
   "metadata": {},
   "source": [
    "### ✨ Reflexión:\n",
    "\n",
    "Este ejemplo simple ilustra que un modelo de clasificación toma una **entrada** (la temperatura) y aplica una **regla** (la condición `if`) para producir una **salida** (0 o 1). En ML real, las reglas son mucho más complejas y se aprenden de grandes volúmenes de datos."
   ]
  },
  {
   "cell_type": "markdown",
   "metadata": {},
   "source": [
    "---"
   ]
  },
  {
   "cell_type": "markdown",
   "metadata": {},
   "source": [
    "## Ejercicio 2: Clasificación de Calificación (Aprobado/Reprobado)\n",
    "\n",
    "Vamos a simular un escenario común: clasificar si un estudiante ha **aprobado (1)** o **reprobado (0)** un examen basándonos en su calificación. Es otro ejemplo de clasificación binaria simple.\n",
    "\n",
    "La regla es: si la calificación es 5 o más, aprueba. Si es menos de 5, reprueba."
   ]
  },
  {
   "cell_type": "code",
   "execution_count": null,
   "metadata": {},
   "outputs": [],
   "source": [
    "def clasificar_calificacion(nota):\n",
    "    \"\"\"\n",
    "    Clasifica si una calificación resulta en aprobado (1) o reprobado (0).\n",
    "    Considera aprobado si la nota es 5 o más.\n",
    "    \"\"\"\n",
    "    if nota >= 5:\n",
    "        return 1 # Aprobado\n",
    "    else:\n",
    "        return 0 # Reprobado\n",
    "\n",
    "# --- Ejemplos de uso ---\n",
    "calificacion_juan = 7.5\n",
    "resultado_juan = clasificar_calificacion(calificacion_juan)\n",
    "print(f\"Juan obtuvo un {calificacion_juan} -> Resultado: {resultado_juan} (1=Aprobado, 0=Reprobado)\")\n",
    "\n",
    "calificacion_ana = 4.2\n",
    "resultado_ana = clasificar_calificacion(calificacion_ana)\n",
    "print(f\"Ana obtuvo un {calificacion_ana} -> Resultado: {resultado_ana} (1=Aprobado, 0=Reprobado)\")\n",
    "\n",
    "calificacion_maria = 5.0\n",
    "resultado_maria = clasificar_calificacion(calificacion_maria)\n",
    "print(f\"María obtuvo un {calificacion_maria} -> Resultado: {resultado_maria} (1=Aprobado, 0=Reprobado)\")\n",
    "\n",
    "print(\"\\n--- Tu Turno: Prueba con tu propia calificación --- \")\n",
    "mi_calificacion = 6.8 # ¡CAMBIA ESTE VALOR!\n",
    "mi_resultado = clasificar_calificacion(mi_calificacion)\n",
    "print(f\"Mi calificación: {mi_calificacion} -> Mi resultado: {mi_resultado} (1=Aprobado, 0=Reprobado)\")\n",
    "\n",
    "print(\"\\n--- Desafío Extra: Cambia el umbral de aprobación ---\")\n",
    "# ¿Y si el aprobado es con 6 o más? Modifica la función 'clasificar_calificacion'\n",
    "# arriba, cambia el 5 a 6 y vuelve a ejecutar TODAS las celdas."
   ]
  },
  {
   "cell_type": "markdown",
   "metadata": {},
   "source": [
    "### ✨ Reflexión:\n",
    "\n",
    "Ambos ejercicios muestran cómo un modelo simple puede tomar una decisión binaria (`0` o `1`) basándose en una característica. La magia del Machine Learning es que, con algoritmos más avanzados y grandes datasets, la máquina puede **descubrir estas reglas complejas por sí misma** sin que nosotros las programemos manualmente."
   ]
  },
  {
   "cell_type": "markdown",
   "metadata": {},
   "source": [
    "---"
   ]
  },
  {
   "cell_type": "markdown",
   "metadata": {},
   "source": [
    "## ⏭️ ¿Qué sigue?\n",
    "\n",
    "Esperamos que estos ejercicios te hayan dado una sensación más concreta de cómo funciona la clasificación. ¡Sigue practicando!\n",
    "\n",
    "Ahora, puedes:\n",
    "\n",
    "1.  Volver a los notebooks principales de la Fase 1 (`Intro_ML.ipynb` y `Titanic_Dataset.ipynb`).\n",
    "2.  Consultar la **`Guía_Conceptos_ML.md`** para repasar la teoría.\n",
    "3.  Si necesitas una guía para trabajar sin conexión, consulta el próximo anexo: **`Guia_Anaconda_Jupyter.md`**."
   ]
  }
 ],
 "metadata": {
  "kernelspec": {
   "display_name": "Python 3",
   "language": "python",
   "name": "python3"
  },
  "language_info": {
   "codemirror_mode": {
    "name": "ipython",
    "version": 3
   },
   "file_extension": ".py",
   "mimetype": "text/x-python",
   "name": "python",
   "nbconvert_exporter": "python",
   "pygments_lexer": "ipython3",
   "version": "3.10.12"
  }
 },
 "nbformat": 4,
 "nbformat_minor": 4
}
