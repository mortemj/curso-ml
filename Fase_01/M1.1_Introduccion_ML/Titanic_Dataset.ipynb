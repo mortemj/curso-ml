{
 "cells": [
  {
   "cell_type": "markdown",
   "metadata": {},
   "source": [
    "# Titanic Dataset: Tu Primer Contacto con Datos Reales\n",
    "\n",
    "---"
   ]
  },
  {
   "cell_type": "markdown",
   "metadata": {},
   "source": [
    "## 🎯 Objetivo de este Notebook\n",
    "\n",
    "En este notebook, darás un gran paso al trabajar con tu primer dataset de Machine Learning: el famoso conjunto de datos del **Titanic**. Aprenderás a cargarlo, a inspeccionar su estructura y a identificar la información clave que usaremos para nuestro objetivo de **clasificación binaria**.\n",
    "\n",
    "Al finalizar este notebook, serás capaz de:\n",
    "* Cargar un dataset en Python usando la librería `Pandas`.\n",
    "* Realizar una inspección inicial de los datos (`.head()`, `.info()`, `.shape()`, `.describe()`).\n",
    "* Distinguir entre la **variable objetivo** y las **variables características**."
   ]
  },
  {
   "cell_type": "markdown",
   "metadata": {},
   "source": [
    "---"
   ]
  },
  {
   "cell_type": "markdown",
   "metadata": {},
   "source": [
    "## 🚢 El Trágico Viaje del Titanic: Un Dataset Clásico\n",
    "\n",
    "El dataset del Titanic es uno de los más populares y utilizados en el mundo del Machine Learning para principiantes. Contiene información sobre los pasajeros del desafortunado viaje inaugural del RMS Titanic, que se hundió en 1912 después de chocar con un iceberg.\n",
    "\n",
    "El objetivo principal es predecir si un pasajero **sobrevivió (1)** o **no sobrevivió (0)** al desastre, basándose en características como su edad, sexo, clase de billete, etc.\n",
    "\n",
    "Este es un problema clásico de **Clasificación Binaria**, exactamente el tipo que exploraremos en este curso."
   ]
  },
  {
   "cell_type": "markdown",
   "metadata": {},
   "source": [
    "---"
   ]
  },
  {
   "cell_type": "markdown",
   "metadata": {},
   "source": [
    "## 📥 Paso 1: Cargar el Dataset\n",
    "\n",
    "Para cargar y manipular datos en Python, usaremos una librería fundamental llamada **Pandas**. Es como una hoja de cálculo muy potente para Python.\n",
    "\n",
    "Primero, necesitamos importar Pandas (es una convención darle el alias `pd`).\n",
    "\n",
    "El dataset del Titanic se puede obtener fácilmente desde un enlace público. Utilizaremos `pd.read_csv()` para cargarlo directamente desde esa URL."
   ]
  },
  {
   "cell_type": "code",
   "execution_count": null,
   "metadata": {},
   "outputs": [],
   "source": [
    "# Importamos la librería pandas\n",
    "import pandas as pd\n",
    "\n",
    "# URL del dataset del Titanic (versión de Kaggle, comúnmente usada)\n",
    "url_titanic = 'https://raw.githubusercontent.com/datasciencedojo/datasets/master/titanic.csv'\n",
    "\n",
    "# Cargamos el dataset en un DataFrame de Pandas\n",
    "df_titanic = pd.read_csv(url_titanic)\n",
    "\n",
    "print(\"¡Dataset del Titanic cargado exitosamente!\")"
   ]
  },
  {
   "cell_type": "markdown",
   "metadata": {},
   "source": [
    "---"
   ]
  },
  {
   "cell_type": "markdown",
   "metadata": {},
   "source": [
    "## 🧐 Paso 2: Inspección Inicial del Dataset\n",
    "\n",
    "Una vez que hemos cargado los datos, es crucial echar un primer vistazo para entender su estructura, qué columnas tiene, cuántas filas, y qué tipo de información contiene cada columna.\n",
    "\n",
    "Utilizaremos las siguientes funciones:\n",
    "\n",
    "* **`.head()`:** Muestra las primeras filas del DataFrame (por defecto, las 5 primeras). Es útil para ver cómo se ven los datos.\n",
    "* **`.info()`:** Proporciona un resumen conciso del DataFrame, incluyendo el número de entradas (filas), el número de columnas, el tipo de datos de cada columna y si hay valores nulos (`NaN`).\n",
    "* **`.shape`:** Devuelve una tupla que representa las dimensiones del DataFrame (número de filas, número de columnas).\n",
    "* **`.describe()`:** Genera estadísticas descriptivas de las columnas numéricas (conteo, media, desviación estándar, valores mínimos/máximos, cuartiles)."
   ]
  },
  {
   "cell_type": "code",
   "execution_count": null,
   "metadata": {},
   "outputs": [],
   "source": [
    "print(\"\\n--- Primeras 5 filas del dataset (.head()) ---\")\n",
    "print(df_titanic.head())\n",
    "\n",
    "print(\"\\n--- Información general del dataset (.info()) ---\")\n",
    "df_titanic.info()\n",
    "\n",
    "print(\"\\n--- Dimensiones del dataset (.shape) ---\")\n",
    "print(f\"Filas: {df_titanic.shape[0]}, Columnas: {df_titanic.shape[1]}\")\n",
    "\n",
    "print(\"\\n--- Estadísticas descriptivas de columnas numéricas (.describe()) ---\")\n",
    "print(df_titanic.describe())"
   ]
  },
  {
   "cell_type": "markdown",
   "metadata": {},
   "source": [
    "---"
   ]
  },
  {
   "cell_type": "markdown",
   "metadata": {},
   "source": [
    "## 🎯 Paso 3: Identificar la Variable Objetivo y las Características\n",
    "\n",
    "En un problema de Machine Learning:\n",
    "\n",
    "* La **Variable Objetivo (o `target` / etiqueta)** es lo que queremos predecir. Es nuestra \"respuesta correcta\" que el modelo debe aprender.\n",
    "* Las **Variables Características (o `features` / atributos)** son las piezas de información (columnas) que usaremos para hacer la predicción."
   ]
  },
  {
   "cell_type": "markdown",
   "metadata": {},
   "source": [
    "Para el dataset del Titanic:\n",
    "\n",
    "* **Variable Objetivo:** `Survived`\n",
    "    * `0`: No sobrevivió\n",
    "    * `1`: Sobrevivió\n",
    "\n",
    "* **Variables Características:** Todas las demás columnas que nos puedan ayudar a predecir la supervivencia (ej. `Pclass`, `Sex`, `Age`, `Fare`, `SibSp`, `Parch`, etc.).\n",
    "\n",
    "Vamos a ver cuántos sobrevivieron y cuántos no:"
   ]
  },
  {
   "cell_type": "code",
   "execution_count": null,
   "metadata": {},
   "outputs": [],
   "source": [
    "print(\"\\n--- Conteo de Sobrevivientes vs. No Sobrevivientes ---\")\n",
    "print(df_titanic['Survived'].value_counts())\n",
    "\n",
    "print(\"\\n--- Proporción de Sobrevivientes vs. No Sobrevivientes ---\")\n",
    "print(df_titanic['Survived'].value_counts(normalize=True).round(2))\n"
   ]
  },
  {
   "cell_type": "markdown",
   "metadata": {},
   "source": [
    "---"
   ]
  },
  {
   "cell_type": "markdown",
   "metadata": {},
   "source": [
    "## 📈 Paso 4: Una Pequeña Visualización Inicial (¡Intuitiva!)\n",
    "\n",
    "Las visualizaciones nos ayudan a entender los datos de un vistazo. No te preocupes por los detalles del código ahora, la idea es que veas cómo podemos empezar a encontrar patrones. ¿Crees que el sexo o la clase del pasajero influyeron en la supervivencia?"
   ]
  },
  {
   "cell_type": "code",
   "execution_count": null,
   "metadata": {},
   "outputs": [],
   "source": [
    "import matplotlib.pyplot as plt\n",
    "import seaborn as sns\n",
    "\n",
    "plt.figure(figsize=(12, 5))\n",
    "\n",
    "plt.subplot(1, 2, 1) # Gráfico 1: Supervivencia por Sexo\n",
    "sns.barplot(x='Sex', y='Survived', data=df_titanic, palette='viridis')\n",
    "plt.title('Proporción de Supervivencia por Sexo')\n",
    "plt.ylabel('Tasa de Supervivencia')\n",
    "plt.xlabel('Sexo')\n",
    "\n",
    "plt.subplot(1, 2, 2) # Gráfico 2: Supervivencia por Clase de Billete\n",
    "sns.barplot(x='Pclass', y='Survived', data=df_titanic, palette='cividis')\n",
    "plt.title('Proporción de Supervivencia por Clase de Billete')\n",
    "plt.ylabel('Tasa de Supervivencia')\n",
    "plt.xlabel('Clase de Billete')\n",
    "\n",
    "plt.tight_layout() # Ajusta el diseño para que no se solapen los gráficos\n",
    "plt.show()\n"
   ]
  },
  {
   "cell_type": "markdown",
   "metadata": {},
   "source": [
    "### ✨ Reflexiona sobre las visualizaciones:\n",
    "\n",
    "* ¿Qué observas en el gráfico de **supervivencia por sexo**? ¿Quién tuvo más posibilidades de sobrevivir?\n",
    "* ¿Qué patrón ves en el gráfico de **supervivencia por clase de billete**? ¿Había alguna clase con mayor tasa de supervivencia?\n",
    "\n",
    "Estas primeras observaciones nos dan pistas valiosas sobre qué características podrían ser importantes para predecir la supervivencia. ¡Esto es el inicio del **análisis de datos exploratorio**!"
   ]
  },
  {
   "cell_type": "markdown",
   "metadata": {},
   "source": [
    "---"
   ]
  },
  {
   "cell_type": "markdown",
   "metadata": {},
   "source": [
    "## ⏭️ ¿Qué sigue?\n",
    "\n",
    "¡Excelente trabajo! Has cargado y explorado tu primer dataset de Machine Learning. Ahora tienes una idea de cómo se ven los datos y qué tipo de información contienen.\n",
    "\n",
    "Te animo a:\n",
    "\n",
    "1.  Revisar el `README.md` de la Fase 1 para tener una visión general.\n",
    "2.  Si aún no lo has hecho, repasa el `Intro_ML.ipynb` para consolidar los conceptos básicos de ML.\n",
    "3.  Consultar la **`Guía_Conceptos_ML.pdf`** para profundizar en la teoría de los tipos de Machine Learning y los términos clave.\n",
    "\n",
    "¡Estás construyendo una base muy sólida en Machine Learning!"
   ]
  }
 ],
 "metadata": {
  "kernelspec": {
   "display_name": "Python 3",
   "language": "python",
   "name": "python3"
  },
  "language_info": {
   "codemirror_mode": {
    "name": "ipython",
    "version": 3
   },
   "file_extension": ".py",
   "mimetype": "text/x-python",
   "name": "python",
   "nbconvert_exporter": "python",
   "pygments_lexer": "ipython3",
   "version": "3.10.12"
  }
 },
 "nbformat": 4,
 "nbformat_minor": 4
}
