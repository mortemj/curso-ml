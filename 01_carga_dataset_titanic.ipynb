{
  "nbformat": 4,
  "nbformat_minor": 0,
  "metadata": {
    "colab": {
      "provenance": [],
      "authorship_tag": "ABX9TyMmFP6ITxdGpw840kUimPYQ",
      "include_colab_link": true
    },
    "kernelspec": {
      "name": "python3",
      "display_name": "Python 3"
    },
    "language_info": {
      "name": "python"
    }
  },
  "cells": [
    {
      "cell_type": "markdown",
      "metadata": {
        "id": "view-in-github",
        "colab_type": "text"
      },
      "source": [
        "<a href=\"https://colab.research.google.com/github/mortemj/curso-ml/blob/main/01_carga_dataset_titanic.ipynb\" target=\"_parent\"><img src=\"https://colab.research.google.com/assets/colab-badge.svg\" alt=\"Open In Colab\"/></a>"
      ]
    },
    {
      "cell_type": "code",
      "execution_count": null,
      "metadata": {
        "id": "pfcL24V_o6hG"
      },
      "outputs": [],
      "source": [
        "# --- 01_carga_dataset_titanic.ipynb ---\n",
        "\n",
        "# Objetivo: Cargar el dataset del Titanic y verificar que se ha leído correctamente.\n",
        "\n",
        "# 1. Importar las librerías necesarias\n",
        "# 'pandas' es la librería principal para trabajar con DataFrames (tablas de datos) en Python.\n",
        "import pandas as pd\n",
        "\n",
        "# 2. Cargar el dataset del Titanic\n",
        "# Asegúrate de que el archivo 'titanic_train.csv' está en la misma carpeta donde\n",
        "# tienes este Jupyter Notebook, o proporciona la ruta completa al archivo.\n",
        "# Si estás en Google Colab, es posible que necesites subir el archivo o cargarlo desde una URL.\n",
        "try:\n",
        "    df_titanic = pd.read_csv('titanic_train.csv')\n",
        "    print(\"Dataset del Titanic cargado exitosamente. ¡Primera victoria!\")\n",
        "\n",
        "    # Opcional: Ver una pequeña parte del DataFrame para confirmar que se cargó bien.\n",
        "    # print(\"\\n--- Primeras filas del DataFrame cargado (opcional) ---\")\n",
        "    # print(df_titanic.head())\n",
        "\n",
        "except FileNotFoundError:\n",
        "    print(\"Error: El archivo 'titanic_train.csv' no se encontró.\")\n",
        "    print(\"Por favor, asegúrate de que el archivo está en la misma ubicación que este notebook.\")\n",
        "    print(\"Si lo necesitas, puedes descargarlo de Kaggle (busca 'Titanic - Machine Learning from Disaster')\")\n",
        "    print(\"o, si usas Google Colab, puedes subirlo con el icono de la carpeta a la izquierda.\")\n",
        "    df_titanic = None # Asignar None para que no haya errores si el archivo no se carga\n",
        "\n",
        "# 3. Mensaje de confirmación\n",
        "if df_titanic is not None:\n",
        "    print(\"\\n¡Listo para la siguiente inspección!\")\n",
        "else:\n",
        "    print(\"\\nNo se pudo cargar el dataset. Por favor, resuelve el error de archivo.\")\n",
        "\n"
      ]
    }
  ]
}