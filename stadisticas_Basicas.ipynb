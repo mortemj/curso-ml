{
 "cells": [
  {
   "cell_type": "markdown",
   "metadata": {},
   "source": [
    "# 📊 Estadísticas Básicas para Machine Learning: Los Cimientos de los Datos\n",
    "\n",
    "---"
   ]
  },
  {
   "cell_type": "markdown",
   "metadata": {},
   "source": [
    "## 🎯 Objetivo de este Notebook\n",
    "\n",
    "Este notebook te introducirá a los **conceptos estadísticos básicos** que son fundamentales para entender y trabajar con datos en Machine Learning. Veremos cómo describir conjuntos de datos numéricos y cómo visualizar sus características principales.\n",
    "\n",
    "Al finalizar este notebook, serás capaz de:\n",
    "* Entender y calcular medidas de tendencia central (media, mediana, moda).\n",
    "* Entender y calcular medidas de dispersión (rango, varianza, desviación estándar).\n",
    "* Generar datos aleatorios en Python y aplicarles estos conceptos.\n",
    "* Crear histogramas y diagramas de caja para visualizar la distribución de los datos."
   ]
  },
  {
   "cell_type": "markdown",
   "metadata": {},
   "source": [
    "---"
   ]
  },
  {
   "cell_type": "markdown",
   "metadata": {},
   "source": [
    "## 1. Medidas de Tendencia Central: ¿Dónde está el Centro de mis Datos?\n",
    "\n",
    "Las medidas de tendencia central nos dicen dónde se agrupan los valores de un conjunto de datos."
   ]
  },
  {
   "cell_type": "markdown",
   "metadata": {},
   "source": [
    "### a) Media (Promedio)\n",
    "La **media** es la suma de todos los valores dividida por el número total de valores. Es la medida más común, pero sensible a valores extremos (outliers).\n",
    "\n",
    "$$ \\text{Media} (\\bar{x}) = \\frac{\\sum_{i=1}^{n} x_i}{n} $$"
   ]
  },
  {
   "cell_type": "markdown",
   "metadata": {},
   "source": [
    "### b) Mediana\n",
    "La **mediana** es el valor central de un conjunto de datos cuando estos están ordenados de menor a mayor. Si hay un número par de datos, es el promedio de los dos valores centrales. Es robusta frente a los outliers.\n",
    "\n",
    "---"
   ]
  },
  {
   "cell_type": "markdown",
   "metadata": {},
   "source": [
    "### c) Moda\n",
    "La **moda** es el valor que aparece con mayor frecuencia en un conjunto de datos. Un conjunto de datos puede tener una moda, varias modas (bimodal, multimodal) o ninguna moda."
   ]
  },
  {
   "cell_type": "markdown",
   "metadata": {},
   "source": [
    "### Ejercicio 1 (Basado en Ejercicio 3 del Módulo 1.2): Calcular Media, Mediana y Moda con Python\n",
    "\n",
    "Vamos a crear una lista de números (simulando calificaciones de estudiantes) y calcularemos sus medidas de tendencia central usando `NumPy` y `SciPy` (librerías fundamentales para cálculo numérico y científico en Python)."
   ]
  },
  {
   "cell_type": "code",
   "execution_count": null,
   "metadata": {},
   "outputs": [],
   "source": [
    "import numpy as np\n",
    "from scipy import stats\n",
    "\n",
    "# Lista de calificaciones de estudiantes\n",
    "calificaciones = [6, 7, 8, 5, 9, 7, 6, 10, 4, 7]\n",
    "\n",
    "print(f\"Calificaciones: {calificaciones}\")\n",
    "\n",
    "# Calcular la Media\n",
    "media = np.mean(calificaciones)\n",
    "print(f\"Media: {media:.2f}\")\n",
    "\n",
    "# Calcular la Mediana\n",
    "mediana = np.median(calificaciones)\n",
    "print(f\"Mediana: {mediana}\")\n",
    "\n",
    "# Calcular la Moda\n",
    "# stats.mode devuelve la moda y su conteo. Usamos .mode[0] para obtener solo el valor de la moda.\n",
    "moda = stats.mode(calificaciones, keepdims=True)[0][0] \n",
    "print(f\"Moda: {moda}\")\n",
    "\n",
    "print(\"\\n--- Tu Turno: Cambia las calificaciones y vuelve a ejecutar ---\")\n",
    "tus_numeros = [1, 2, 2, 3, 4, 4, 4, 5, 6] # ¡Prueba con tus propios números!\n",
    "print(f\"Tus números: {tus_numeros}\")\n",
    "print(f\"Media de tus números: {np.mean(tus_numeros):.2f}\")\n",
    "print(f\"Mediana de tus números: {np.median(tus_numeros)}\")\n",
    "print(f\"Moda de tus números: {stats.mode(tus_numeros, keepdims=True)[0][0]}\")"
   ]
  },
  {
   "cell_type": "markdown",
   "metadata": {},
   "source": [
    "---"
   ]
  },
  {
   "cell_type": "markdown",
   "metadata": {},
   "source": [
    "## 2. Medidas de Dispersión: ¿Qué Tan Dispersos Están mis Datos?\n",
    "\n",
    "Las medidas de dispersión nos dicen cuánto se extienden o varían los valores en un conjunto de datos."
   ]
  },
  {
   "cell_type": "markdown",
   "metadata": {},
   "source": [
    "### a) Rango\n",
    "El **rango** es la diferencia entre el valor máximo y el valor mínimo en el conjunto de datos. Es una medida sencilla pero sensible a outliers."
   ]
  },
  {
   "cell_type": "markdown",
   "metadata": {},
   "source": [
    "### b) Varianza\n",
    "La **varianza** mide la dispersión promedio de cada valor respecto a la media. Cuanto mayor es la varianza, más dispersos están los datos. Se calcula como la media de las diferencias al cuadrado con la media.\n",
    "\n",
    "$$ \\text{Varianza} (\\sigma^2) = \\frac{\\sum_{i=1}^{n} (x_i - \\bar{x})^2}{n} $$"
   ]
  },
  {
   "cell_type": "markdown",
   "metadata": {},
   "source": [
    "### c) Desviación Estándar\n",
    "La **desviación estándar** es la raíz cuadrada de la varianza. Es más fácil de interpretar que la varianza porque está en las mismas unidades que los datos originales. Nos dice, en promedio, cuánto se desvían los valores de la media.\n",
    "\n",
    "$$ \\text{Desviación Estándar} (\\sigma) = \\sqrt{\\frac{\\sum_{i=1}^{n} (x_i - \\bar{x})^2}{n}} $$"
   ]
  },
  {
   "cell_type": "markdown",
   "metadata": {},
   "source": [
    "### Ejercicio 2 (Basado en Ejercicio 5 del Módulo 1.3): Generar Datos Aleatorios y Calcular Medidas de Dispersión\n",
    "\n",
    "Usaremos `NumPy` para generar un conjunto de datos aleatorios y luego calcularemos sus medidas de dispersión."
   ]
  },
  {
   "cell_type": "code",
   "execution_count": null,
   "metadata": {},
   "outputs": [],
   "source": [
    "import numpy as np\n",
    "\n",
    "# Generar 100 números aleatorios distribuidos normalmente (simulando, por ejemplo, alturas de personas)\n",
    "# np.random.normal(media, desviacion_estandar, cantidad_de_numeros)\n",
    "np.random.seed(42) # Para que los resultados sean reproducibles\n",
    "alturas = np.random.normal(loc=170, scale=10, size=100) # Media 170cm, Desv. Est. 10cm\n",
    "\n",
    "print(\"Primeras 5 alturas generadas:\")\n",
    "print(alturas[:5])\n",
    "\n",
    "# Calcular el Rango\n",
    "rango = np.max(alturas) - np.min(alturas)\n",
    "print(f\"\\nRango: {rango:.2f}\")\n",
    "\n",
    "# Calcular la Varianza\n",
    "varianza = np.var(alturas)\n",
    "print(f\"Varianza: {varianza:.2f}\")\n",
    "\n",
    "# Calcular la Desviación Estándar\n",
    "desviacion_estandar = np.std(alturas)\n",
    "print(f\"Desviación Estándar: {desviacion_estandar:.2f}\")\n",
    "\n",
    "print(\"\\n--- Tu Turno: Genera otro conjunto de datos con diferente media y desviación estándar ---\")\n",
    "np.random.seed(100) # Otra semilla para otros resultados\n",
    "pesos = np.random.normal(loc=70, scale=5, size=50) # Media 70kg, Desv. Est. 5kg, 50 números\n",
    "\n",
    "print(\"Primeros 5 pesos generados:\")\n",
    "print(pesos[:5])\n",
    "print(f\"Rango de pesos: {np.max(pesos) - np.min(pesos):.2f}\")\n",
    "print(f\"Varianza de pesos: {np.var(pesos):.2f}\")\n",
    "print(f\"Desviación Estándar de pesos: {np.std(pesos):.2f}\")"
   ]
  },
  {
   "cell_type": "markdown",
   "metadata": {},
   "source": [
    "---"
   ]
  },
  {
   "cell_type": "markdown",
   "metadata": {},
   "source": [
    "## 3. Distribución Normal y Representación Gráfica\n",
    "\n",
    "La **Distribución Normal** (también conocida como campana de Gauss) es una de las distribuciones de probabilidad más importantes y comunes en estadística. Muchas variables naturales (como la altura o el peso de una población) tienden a seguir esta distribución. Es simétrica alrededor de su media.\n",
    "\n",
    "Las visualizaciones son clave para entender la distribución de nuestros datos."
   ]
  },
  {
   "cell_type": "markdown",
   "metadata": {},
   "source": [
    "### Ejercicio 3 (Basado en Ejercicio 6 del Módulo 1.3): Crear Histogramas y Diagramas de Caja\n",
    "\n",
    "Usaremos la librería `Matplotlib` y `Seaborn` para crear gráficos que nos permitan visualizar la distribución de los datos.\n",
    "\n",
    "* Un **histograma** muestra la frecuencia con la que aparecen los valores en diferentes rangos (o 'bins'). Nos da una idea de la forma de la distribución.\n",
    "* Un **diagrama de caja (boxplot)** muestra la distribución de los datos a través de sus cuartiles, mediana y posibles valores atípicos (outliers). Es excelente para comparar distribuciones entre grupos."
   ]
  },
  {
   "cell_type": "code",
   "execution_count": null,
   "metadata": {},
   "outputs": [],
   "source": [
    "import matplotlib.pyplot as plt\n",
    "import seaborn as sns\n",
    "import numpy as np\n",
    "\n",
    "# Generar datos de ejemplo para visualizar (edades de una población)\n",
    "np.random.seed(42)\n",
    "edades = np.random.normal(loc=35, scale=10, size=500) # Media 35, Desv. Est. 10\n",
    "# Asegurarnos de que las edades sean números enteros y positivas\n",
    "edades = np.round(edades[edades > 0])\n",
    "\n",
    "print(\"Primeras 5 edades generadas:\")\n",
    "print(edades[:5])\n",
    "\n",
    "# --- Visualización: Histograma ---\n",
    "plt.figure(figsize=(10, 5))\n",
    "sns.histplot(edades, bins=20, kde=True) # kde=True añade una estimación de la densidad\n",
    "plt.title('Histograma de Edades')\n",
    "plt.xlabel('Edad')\n",
    "plt.ylabel('Frecuencia')\n",
    "plt.grid(axis='y', alpha=0.75)\n",
    "plt.show()\n",
    "\n",
    "print(\"\\n--- Tu Turno: Crea un histograma para tus propios datos ---\")\n",
    "# Genera 200 puntos de datos aleatorios con una media de 50 y desviación estándar de 15\n",
    "np.random.seed(123)\n",
    "mis_puntos = np.random.normal(loc=50, scale=15, size=200)\n",
    "\n",
    "plt.figure(figsize=(8, 4))\n",
    "sns.histplot(mis_puntos, bins=15, color='orange', kde=True)\n",
    "plt.title('Histograma de Mis Puntos')\n",
    "plt.xlabel('Valor')\n",
    "plt.ylabel('Frecuencia')\n",
    "plt.show()\n",
    "\n",
    "# --- Visualización: Diagrama de Caja (Boxplot) ---\n",
    "print(\"\\n--- Diagrama de Caja de Edades ---\")\n",
    "plt.figure(figsize=(8, 4))\n",
    "sns.boxplot(x=edades)\n",
    "plt.title('Diagrama de Caja de Edades')\n",
    "plt.xlabel('Edad')\n",
    "plt.show()\n",
    "\n",
    "print(\"\\n--- Tu Turno: Crea un diagrama de caja para tus propios datos ---\")\n",
    "plt.figure(figsize=(8, 4))\n",
    "sns.boxplot(x=mis_puntos, color='lightgreen')\n",
    "plt.title('Diagrama de Caja de Mis Puntos')\n",
    "plt.xlabel('Valor')\n",
    "plt.show()\n"
   ]
  },
  {
   "cell_type": "markdown",
   "metadata": {},
   "source": [
    "### ✨ Reflexión:\n",
    "\n",
    "Las estadísticas básicas y las visualizaciones son las primeras herramientas que usamos para **entender nuestros datos**. Antes de aplicar cualquier algoritmo de Machine Learning, es vital saber qué información contienen y cómo se distribuye."
   ]
  },
  {
   "cell_type": "markdown",
   "metadata": {},
   "source": [
    "---"
   ]
  },
  {
   "cell_type": "markdown",
   "metadata": {},
   "source": [
    "## ⏭️ ¿Qué sigue?\n",
    "\n",
    "¡Excelente trabajo! Has cubierto los fundamentos de las estadísticas descriptivas. Esto te servirá para cualquier análisis de datos.\n",
    "\n",
    "Ahora puedes:\n",
    "\n",
    "1.  Revisar los otros notebooks de la Fase 1.\n",
    "2.  Si aún no lo has hecho, completa los ejercicios prácticos adicionales en **`Anexos_Fase1/Ejercicios_Iniciales.ipynb`**.\n",
    "3.  Consulta la **`Anexos_Fase1/Actividades_Investigacion_Fase1.md`** para las tareas de investigación.\n",
    "4.  Si necesitas instalar un entorno local, revisa **`Anexos_Fase1/Guia_Anaconda_Jupyter.md`**.\n",
    "\n",
    "¡Estás construyendo una base muy sólida para tu viaje en Machine Learning!"
   ]
  }
 ],
 "metadata": {
  "kernelspec": {
   "display_name": "Python 3",
   "language": "python",
   "name": "python3"
  },
  "language_info": {
   "codemirror_mode": {
    "name": "ipython",
    "version": 3
   },
   "file_extension": ".py",
   "mimetype": "text/x-python",
   "name": "python",
   "nbconvert_exporter": "python",
   "pygments_lexer": "ipython3",
   "version": "3.10.12"
  }
 },
 "nbformat": 4,
 "nbformat_minor": 4
}
