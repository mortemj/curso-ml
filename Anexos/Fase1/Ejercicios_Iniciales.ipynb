{
 "cells": [
  {
   "cell_type": "markdown",
   "metadata": {},
   "source": [
    "# Anexo: Ejercicios Prácticos Iniciales de Clasificación\n",
    "\n",
    "---"
   ]
  },
  {
   "cell_type": "markdown",
   "metadata": {},
   "source": [
    "## 🎯 Objetivo de este Notebook\n",
    "\n",
    "Este notebook complementa la Fase 1, ofreciendo ejercicios prácticos adicionales para consolidar tu comprensión de la **clasificación binaria** y cómo una máquina puede tomar decisiones basadas en reglas simples. El objetivo es que experimentes con el código y veas el impacto de las condiciones.\n",
    "\n",
    "Al finalizar este notebook, serás capaz de:\n",
    "* Entender cómo una función simple de Python puede simular una clasificación.\n",
    "* Modificar y probar las reglas de clasificación.\n",
    "* Reforzar la idea de que los modelos de ML aprenden estas reglas (mucho más complejas) de los datos."
   ]
  },
  {
   "cell_type": "markdown",
   "metadata": {},
   "source": [
    "---"
   ]
  },
  {
   "cell_type": "markdown",
   "metadata": {},
   "source": [
    "## Ejercicio 1: Clasificación de Fiebre (Revisitado del Intro_ML.ipynb)\n",
    "\n",
    "Aquí tienes el ejercicio de la temperatura que viste en el notebook `Intro_ML.ipynb`. Te animamos a ejecutarlo de nuevo y, ¡aún mejor!, a cambiar la `temperatura` y la regla de clasificación (`>= 37.5`) para ver cómo cambia la predicción.\n",
    "\n",
    "Imagina que un sensor mide la **temperatura corporal** de una persona y queremos clasificar si **podría tener fiebre (1) o no (0)**."
   ]
  },
  {
   "cell_type": "code",
   "execution_count": null,
   "metadata": {},
   "outputs": [],
   "source": [
    "# Definimos nuestra \"función clasificadora\" (nuestro mini-modelo de ML)\n",
    "def clasificar_fiebre(temperatura):\n",
    "    \"\"\"\n",
    "    Clasifica si una persona podría tener fiebre (1) o no (0)\n",
    "    basándose en la temperatura corporal.\n",
    "    \"\"\"\n",
    "    if temperatura >= 37.5: # Si la temperatura es 37.5 o más, consideramos fiebre\n",
    "        return 1  # 1 significa 'Sí, podría tener fiebre'\n",
    "    else:\n",
    "        return 0  # 0 significa 'No, probablemente no tiene fiebre'\n",
    "\n",
    "# --- Prueba nuestro clasificador con diferentes temperaturas --- \n",
    "temperatura_persona1 = 36.8\n",
    "prediccion_persona1 = clasificar_fiebre(temperatura_persona1)\n",
    "print(f\"Temperatura: {temperatura_persona1}°C -> Predicción de fiebre: {prediccion_persona1}\")\n",
    "\n",
    "temperatura_persona2 = 38.1\n",
    "prediccion_persona2 = clasificar_fiebre(temperatura_persona2)\n",
    "print(f\"Temperatura: {temperatura_persona2}°C -> Predicción de fiebre: {prediccion_persona2}\")\n",
    "\n",
    "temperatura_persona3 = 37.5\n",
    "prediccion_persona3 = clasificar_fiebre(temperatura_persona3)\n",
    "print(f\"Temperatura: {temperatura_persona3}°C -> Predicción de fiebre: {prediccion_persona3}\")\n",
